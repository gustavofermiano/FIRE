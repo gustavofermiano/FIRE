{
 "cells": [
  {
   "cell_type": "code",
   "execution_count": 139,
   "id": "80b6ea56-5657-45a0-97ad-3283ad7ba41f",
   "metadata": {},
   "outputs": [
    {
     "name": "stdout",
     "output_type": "stream",
     "text": [
      "Requirement already satisfied: gradio in c:\\users\\gustavo\\anaconda3\\lib\\site-packages (4.44.0)\n",
      "Requirement already satisfied: aiofiles<24.0,>=22.0 in c:\\users\\gustavo\\anaconda3\\lib\\site-packages (from gradio) (23.2.1)\n",
      "Requirement already satisfied: anyio<5.0,>=3.0 in c:\\users\\gustavo\\anaconda3\\lib\\site-packages (from gradio) (4.2.0)\n",
      "Requirement already satisfied: fastapi<1.0 in c:\\users\\gustavo\\anaconda3\\lib\\site-packages (from gradio) (0.114.2)\n",
      "Requirement already satisfied: ffmpy in c:\\users\\gustavo\\anaconda3\\lib\\site-packages (from gradio) (0.4.0)\n",
      "Requirement already satisfied: gradio-client==1.3.0 in c:\\users\\gustavo\\anaconda3\\lib\\site-packages (from gradio) (1.3.0)\n",
      "Requirement already satisfied: httpx>=0.24.1 in c:\\users\\gustavo\\anaconda3\\lib\\site-packages (from gradio) (0.27.0)\n",
      "Requirement already satisfied: huggingface-hub>=0.19.3 in c:\\users\\gustavo\\anaconda3\\lib\\site-packages (from gradio) (0.24.7)\n",
      "Requirement already satisfied: importlib-resources<7.0,>=1.3 in c:\\users\\gustavo\\anaconda3\\lib\\site-packages (from gradio) (6.4.5)\n",
      "Requirement already satisfied: jinja2<4.0 in c:\\users\\gustavo\\anaconda3\\lib\\site-packages (from gradio) (3.1.4)\n",
      "Requirement already satisfied: markupsafe~=2.0 in c:\\users\\gustavo\\anaconda3\\lib\\site-packages (from gradio) (2.1.3)\n",
      "Requirement already satisfied: matplotlib~=3.0 in c:\\users\\gustavo\\anaconda3\\lib\\site-packages (from gradio) (3.8.4)\n",
      "Requirement already satisfied: numpy<3.0,>=1.0 in c:\\users\\gustavo\\anaconda3\\lib\\site-packages (from gradio) (1.26.4)\n",
      "Requirement already satisfied: orjson~=3.0 in c:\\users\\gustavo\\anaconda3\\lib\\site-packages (from gradio) (3.10.7)\n",
      "Requirement already satisfied: packaging in c:\\users\\gustavo\\anaconda3\\lib\\site-packages (from gradio) (23.2)\n",
      "Requirement already satisfied: pandas<3.0,>=1.0 in c:\\users\\gustavo\\anaconda3\\lib\\site-packages (from gradio) (2.2.2)\n",
      "Requirement already satisfied: pillow<11.0,>=8.0 in c:\\users\\gustavo\\anaconda3\\lib\\site-packages (from gradio) (10.3.0)\n",
      "Requirement already satisfied: pydantic>=2.0 in c:\\users\\gustavo\\anaconda3\\lib\\site-packages (from gradio) (2.5.3)\n",
      "Requirement already satisfied: pydub in c:\\users\\gustavo\\anaconda3\\lib\\site-packages (from gradio) (0.25.1)\n",
      "Requirement already satisfied: python-multipart>=0.0.9 in c:\\users\\gustavo\\anaconda3\\lib\\site-packages (from gradio) (0.0.9)\n",
      "Requirement already satisfied: pyyaml<7.0,>=5.0 in c:\\users\\gustavo\\anaconda3\\lib\\site-packages (from gradio) (6.0.1)\n",
      "Requirement already satisfied: ruff>=0.2.2 in c:\\users\\gustavo\\anaconda3\\lib\\site-packages (from gradio) (0.6.5)\n",
      "Requirement already satisfied: semantic-version~=2.0 in c:\\users\\gustavo\\anaconda3\\lib\\site-packages (from gradio) (2.10.0)\n",
      "Requirement already satisfied: tomlkit==0.12.0 in c:\\users\\gustavo\\anaconda3\\lib\\site-packages (from gradio) (0.12.0)\n",
      "Requirement already satisfied: typer<1.0,>=0.12 in c:\\users\\gustavo\\anaconda3\\lib\\site-packages (from gradio) (0.12.5)\n",
      "Requirement already satisfied: typing-extensions~=4.0 in c:\\users\\gustavo\\anaconda3\\lib\\site-packages (from gradio) (4.11.0)\n",
      "Requirement already satisfied: urllib3~=2.0 in c:\\users\\gustavo\\anaconda3\\lib\\site-packages (from gradio) (2.2.2)\n",
      "Requirement already satisfied: uvicorn>=0.14.0 in c:\\users\\gustavo\\anaconda3\\lib\\site-packages (from gradio) (0.30.6)\n",
      "Requirement already satisfied: fsspec in c:\\users\\gustavo\\anaconda3\\lib\\site-packages (from gradio-client==1.3.0->gradio) (2024.3.1)\n",
      "Requirement already satisfied: websockets<13.0,>=10.0 in c:\\users\\gustavo\\anaconda3\\lib\\site-packages (from gradio-client==1.3.0->gradio) (12.0)\n",
      "Requirement already satisfied: idna>=2.8 in c:\\users\\gustavo\\anaconda3\\lib\\site-packages (from anyio<5.0,>=3.0->gradio) (3.7)\n",
      "Requirement already satisfied: sniffio>=1.1 in c:\\users\\gustavo\\anaconda3\\lib\\site-packages (from anyio<5.0,>=3.0->gradio) (1.3.0)\n",
      "Requirement already satisfied: starlette<0.39.0,>=0.37.2 in c:\\users\\gustavo\\anaconda3\\lib\\site-packages (from fastapi<1.0->gradio) (0.38.5)\n",
      "Requirement already satisfied: certifi in c:\\users\\gustavo\\anaconda3\\lib\\site-packages (from httpx>=0.24.1->gradio) (2024.8.30)\n",
      "Requirement already satisfied: httpcore==1.* in c:\\users\\gustavo\\anaconda3\\lib\\site-packages (from httpx>=0.24.1->gradio) (1.0.2)\n",
      "Requirement already satisfied: h11<0.15,>=0.13 in c:\\users\\gustavo\\anaconda3\\lib\\site-packages (from httpcore==1.*->httpx>=0.24.1->gradio) (0.14.0)\n",
      "Requirement already satisfied: filelock in c:\\users\\gustavo\\anaconda3\\lib\\site-packages (from huggingface-hub>=0.19.3->gradio) (3.13.1)\n",
      "Requirement already satisfied: requests in c:\\users\\gustavo\\anaconda3\\lib\\site-packages (from huggingface-hub>=0.19.3->gradio) (2.32.2)\n",
      "Requirement already satisfied: tqdm>=4.42.1 in c:\\users\\gustavo\\anaconda3\\lib\\site-packages (from huggingface-hub>=0.19.3->gradio) (4.66.4)\n",
      "Requirement already satisfied: contourpy>=1.0.1 in c:\\users\\gustavo\\anaconda3\\lib\\site-packages (from matplotlib~=3.0->gradio) (1.2.0)\n",
      "Requirement already satisfied: cycler>=0.10 in c:\\users\\gustavo\\anaconda3\\lib\\site-packages (from matplotlib~=3.0->gradio) (0.11.0)\n",
      "Requirement already satisfied: fonttools>=4.22.0 in c:\\users\\gustavo\\anaconda3\\lib\\site-packages (from matplotlib~=3.0->gradio) (4.51.0)\n",
      "Requirement already satisfied: kiwisolver>=1.3.1 in c:\\users\\gustavo\\anaconda3\\lib\\site-packages (from matplotlib~=3.0->gradio) (1.4.4)\n",
      "Requirement already satisfied: pyparsing>=2.3.1 in c:\\users\\gustavo\\anaconda3\\lib\\site-packages (from matplotlib~=3.0->gradio) (3.0.9)\n",
      "Requirement already satisfied: python-dateutil>=2.7 in c:\\users\\gustavo\\anaconda3\\lib\\site-packages (from matplotlib~=3.0->gradio) (2.9.0.post0)\n",
      "Requirement already satisfied: pytz>=2020.1 in c:\\users\\gustavo\\anaconda3\\lib\\site-packages (from pandas<3.0,>=1.0->gradio) (2024.1)\n",
      "Requirement already satisfied: tzdata>=2022.7 in c:\\users\\gustavo\\anaconda3\\lib\\site-packages (from pandas<3.0,>=1.0->gradio) (2023.3)\n",
      "Requirement already satisfied: annotated-types>=0.4.0 in c:\\users\\gustavo\\anaconda3\\lib\\site-packages (from pydantic>=2.0->gradio) (0.6.0)\n",
      "Requirement already satisfied: pydantic-core==2.14.6 in c:\\users\\gustavo\\anaconda3\\lib\\site-packages (from pydantic>=2.0->gradio) (2.14.6)\n",
      "Requirement already satisfied: click>=8.0.0 in c:\\users\\gustavo\\anaconda3\\lib\\site-packages (from typer<1.0,>=0.12->gradio) (8.1.7)\n",
      "Requirement already satisfied: shellingham>=1.3.0 in c:\\users\\gustavo\\anaconda3\\lib\\site-packages (from typer<1.0,>=0.12->gradio) (1.5.4)\n",
      "Requirement already satisfied: rich>=10.11.0 in c:\\users\\gustavo\\anaconda3\\lib\\site-packages (from typer<1.0,>=0.12->gradio) (13.3.5)\n",
      "Requirement already satisfied: colorama in c:\\users\\gustavo\\anaconda3\\lib\\site-packages (from click>=8.0.0->typer<1.0,>=0.12->gradio) (0.4.6)\n",
      "Requirement already satisfied: six>=1.5 in c:\\users\\gustavo\\anaconda3\\lib\\site-packages (from python-dateutil>=2.7->matplotlib~=3.0->gradio) (1.16.0)\n",
      "Requirement already satisfied: markdown-it-py<3.0.0,>=2.2.0 in c:\\users\\gustavo\\anaconda3\\lib\\site-packages (from rich>=10.11.0->typer<1.0,>=0.12->gradio) (2.2.0)\n",
      "Requirement already satisfied: pygments<3.0.0,>=2.13.0 in c:\\users\\gustavo\\anaconda3\\lib\\site-packages (from rich>=10.11.0->typer<1.0,>=0.12->gradio) (2.15.1)\n",
      "Requirement already satisfied: charset-normalizer<4,>=2 in c:\\users\\gustavo\\anaconda3\\lib\\site-packages (from requests->huggingface-hub>=0.19.3->gradio) (2.0.4)\n",
      "Requirement already satisfied: mdurl~=0.1 in c:\\users\\gustavo\\anaconda3\\lib\\site-packages (from markdown-it-py<3.0.0,>=2.2.0->rich>=10.11.0->typer<1.0,>=0.12->gradio) (0.1.0)\n"
     ]
    }
   ],
   "source": [
    "#instalando biblioteca do gradio\n",
    "!pip install gradio"
   ]
  },
  {
   "cell_type": "code",
   "execution_count": 140,
   "id": "7be1fda7-4bd2-43c0-9430-ad1a0fac0c99",
   "metadata": {},
   "outputs": [
    {
     "name": "stdout",
     "output_type": "stream",
     "text": [
      "Requirement already satisfied: torch in c:\\users\\gustavo\\anaconda3\\lib\\site-packages (2.4.1)\n",
      "Requirement already satisfied: torchvision in c:\\users\\gustavo\\anaconda3\\lib\\site-packages (0.19.1)\n",
      "Requirement already satisfied: torchaudio in c:\\users\\gustavo\\anaconda3\\lib\\site-packages (2.4.1)\n",
      "Requirement already satisfied: filelock in c:\\users\\gustavo\\anaconda3\\lib\\site-packages (from torch) (3.13.1)\n",
      "Requirement already satisfied: typing-extensions>=4.8.0 in c:\\users\\gustavo\\anaconda3\\lib\\site-packages (from torch) (4.11.0)\n",
      "Requirement already satisfied: sympy in c:\\users\\gustavo\\anaconda3\\lib\\site-packages (from torch) (1.12)\n",
      "Requirement already satisfied: networkx in c:\\users\\gustavo\\anaconda3\\lib\\site-packages (from torch) (3.2.1)\n",
      "Requirement already satisfied: jinja2 in c:\\users\\gustavo\\anaconda3\\lib\\site-packages (from torch) (3.1.4)\n",
      "Requirement already satisfied: fsspec in c:\\users\\gustavo\\anaconda3\\lib\\site-packages (from torch) (2024.3.1)\n",
      "Requirement already satisfied: setuptools in c:\\users\\gustavo\\anaconda3\\lib\\site-packages (from torch) (69.5.1)\n",
      "Requirement already satisfied: numpy in c:\\users\\gustavo\\anaconda3\\lib\\site-packages (from torchvision) (1.26.4)\n",
      "Requirement already satisfied: pillow!=8.3.*,>=5.3.0 in c:\\users\\gustavo\\anaconda3\\lib\\site-packages (from torchvision) (10.3.0)\n",
      "Requirement already satisfied: MarkupSafe>=2.0 in c:\\users\\gustavo\\anaconda3\\lib\\site-packages (from jinja2->torch) (2.1.3)\n",
      "Requirement already satisfied: mpmath>=0.19 in c:\\users\\gustavo\\anaconda3\\lib\\site-packages (from sympy->torch) (1.3.0)\n"
     ]
    }
   ],
   "source": [
    "# Instalar a biblioteca torch\n",
    "!pip install torch torchvision torchaudio"
   ]
  },
  {
   "cell_type": "code",
   "execution_count": 141,
   "id": "7e525777-56fa-4614-abfc-0573377df7a6",
   "metadata": {},
   "outputs": [],
   "source": [
    "# Importando as bibliotecas necessárias\n",
    "import torch  # Biblioteca principal para tensores e deep learning.\n",
    "import torch.nn as nn  # Submódulo para criar e gerenciar camadas de redes neurais.\n",
    "import torch.optim as optim  # Submódulo para otimização, como SGD ou Adam.\n",
    "from torchvision import datasets, transforms, models  # Importa ferramentas para carregar datasets, aplicar transformações e carregar modelos pré-treinados.\n",
    "from torch.utils.data import DataLoader  # Permite carregar datasets em lotes para o treinamento.\n",
    "import matplotlib.pyplot as plt  # Biblioteca para criar gráficos e visualizações.\n",
    "import numpy as np  # Biblioteca para manipulação numérica e arrays.\n",
    "import gradio as gr  # Biblioteca para criar interfaces web para modelos de machine learning.\n",
    "from sklearn.metrics import confusion_matrix, ConfusionMatrixDisplay, classification_report  # Funções para exibir e calcular métricas de classificação.\n",
    "import time  # Módulo para medir o tempo de execução de funções.\n"
   ]
  },
  {
   "cell_type": "code",
   "execution_count": 142,
   "id": "f933460b-0bc0-4c54-9e42-ea2f613e1bb3",
   "metadata": {},
   "outputs": [],
   "source": [
    "# Configurando o dispositivo (GPU se disponível)\n",
    "device = torch.device(\"cuda\" if torch.cuda.is_available() else \"cpu\")  # Define se o treinamento será feito na GPU ou CPU, dependendo da disponibilidade.\n"
   ]
  },
  {
   "cell_type": "code",
   "execution_count": 143,
   "id": "c55d9dcf-68a5-4ab5-9294-857d4e1b76a0",
   "metadata": {},
   "outputs": [],
   "source": [
    "# Transformações para os dados de treinamento e teste (incluindo Data Augmentation)\n",
    "transform = transforms.Compose([  # Aplica transformações nos dados de entrada para aumentar a robustez do modelo.\n",
    "    transforms.Resize((224, 224)),  # Redimensiona a imagem para 224x224 pixels.\n",
    "    transforms.RandomHorizontalFlip(),  # Aleatoriamente inverte horizontalmente a imagem.\n",
    "    transforms.RandomRotation(10),  # Rotaciona a imagem aleatoriamente até 10 graus.\n",
    "    transforms.RandomCrop(224, padding=10),  # Recorta a imagem de forma aleatória com padding de 10 pixels.\n",
    "    transforms.ToTensor(),  # Converte a imagem para um tensor.\n",
    "    transforms.Normalize(mean=[0.485, 0.456, 0.406], std=[0.229, 0.224, 0.225])  # Normaliza a imagem com valores específicos.\n",
    "])\n"
   ]
  },
  {
   "cell_type": "code",
   "execution_count": 144,
   "id": "0f8af49d-c98b-418e-bed5-b92c4096727d",
   "metadata": {},
   "outputs": [],
   "source": [
    "# Transformações apenas para predição (sem Data Augmentation) - utilizado para o upload de imagem.\n",
    "predict_transform = transforms.Compose([  # Usado para imagens de predição, sem transformação aleatória.\n",
    "    transforms.Resize((224, 224)),  # Redimensiona a imagem para 224x224 pixels.\n",
    "    transforms.ToTensor(),  # Converte a imagem para um tensor.\n",
    "    transforms.Normalize(mean=[0.485, 0.456, 0.406], std=[0.229, 0.224, 0.225])  # Normaliza a imagem.\n",
    "])\n"
   ]
  },
  {
   "cell_type": "code",
   "execution_count": 145,
   "id": "42e25713-b9fe-426d-aa70-737607af646f",
   "metadata": {},
   "outputs": [],
   "source": [
    "# Carregando os dados (substitua 'path_to_train' e 'path_to_test' pelos caminhos corretos no seu diretório do Windows)\n",
    "train_dataset = datasets.ImageFolder('C:/Users/Gustavo/Downloads/the_wildfire_dataset_2n_version/train', transform=transform)  # Carrega o conjunto de treinamento da pasta especificada.\n",
    "test_dataset = datasets.ImageFolder('C:/Users/Gustavo/Downloads/the_wildfire_dataset_2n_version/test', transform=transform)  # Carrega o conjunto de teste da pasta especificada.\n"
   ]
  },
  {
   "cell_type": "code",
   "execution_count": 146,
   "id": "48f16c87-5116-4e01-bdc1-ffaa999b15bf",
   "metadata": {},
   "outputs": [],
   "source": [
    "# Ajustando o tamanho do lote (Batch Size)\n",
    "train_loader = DataLoader(train_dataset, batch_size=64, shuffle=True)  # Carrega os dados de treinamento em lotes de 64, embaralhando-os.\n",
    "test_loader = DataLoader(test_dataset, batch_size=64, shuffle=False)  # Carrega os dados de teste em lotes de 64, sem embaralhar.\n"
   ]
  },
  {
   "cell_type": "code",
   "execution_count": 147,
   "id": "53eaf974-f9a3-4e66-b598-d86529c7017a",
   "metadata": {},
   "outputs": [
    {
     "name": "stderr",
     "output_type": "stream",
     "text": [
      "C:\\Users\\Gustavo\\anaconda3\\Lib\\site-packages\\torchvision\\models\\_utils.py:208: UserWarning: The parameter 'pretrained' is deprecated since 0.13 and may be removed in the future, please use 'weights' instead.\n",
      "  warnings.warn(\n",
      "C:\\Users\\Gustavo\\anaconda3\\Lib\\site-packages\\torchvision\\models\\_utils.py:223: UserWarning: Arguments other than a weight enum or `None` for 'weights' are deprecated since 0.13 and may be removed in the future. The current behavior is equivalent to passing `weights=ResNet18_Weights.IMAGENET1K_V1`. You can also use `weights=ResNet18_Weights.DEFAULT` to get the most up-to-date weights.\n",
      "  warnings.warn(msg)\n"
     ]
    }
   ],
   "source": [
    "# Definindo o modelo (usando ResNet18 pré-treinada)\n",
    "model = models.resnet18(pretrained=True)  # Carrega a arquitetura ResNet18 com pesos pré-treinados.\n",
    "num_ftrs = model.fc.in_features  # Obtém o número de características da camada final.\n"
   ]
  },
  {
   "cell_type": "code",
   "execution_count": 148,
   "id": "cab9317a-ae7b-44b5-9679-7ed4af3b101e",
   "metadata": {},
   "outputs": [],
   "source": [
    "# Adicionando Dropout na camada final e ajustando para 2 classes\n",
    "model.fc = nn.Sequential(  # Redefine a última camada da ResNet para adicionar Dropout e ajustar para 2 classes.\n",
    "    nn.Dropout(0.5),  # Dropout para evitar overfitting.\n",
    "    nn.Linear(num_ftrs, 2)  # Camada totalmente conectada para classificação em 2 classes.\n",
    ")\n",
    "model = model.to(device)  # Envia o modelo para o dispositivo (GPU ou CPU)."
   ]
  },
  {
   "cell_type": "code",
   "execution_count": 149,
   "id": "bb9c5837-16bd-42ba-80b0-3a892a531266",
   "metadata": {},
   "outputs": [],
   "source": [
    "# Definindo a função de perda com pesos para classes desbalanceadas e o otimizador\n",
    "class_weights = torch.tensor([0.7, 0.3]).to(device)  # Define pesos para lidar com o desbalanceamento das classes (ajuste conforme os dados).\n",
    "criterion = nn.CrossEntropyLoss(weight=class_weights)  # Função de perda ponderada para ajustar o aprendizado das classes desbalanceadas.\n",
    "optimizer = optim.SGD(model.parameters(), lr=0.001, momentum=0.9)  # Define o otimizador SGD com taxa de aprendizado de 0.001 e momentum de 0.9.\n"
   ]
  },
  {
   "cell_type": "code",
   "execution_count": 150,
   "id": "d5d864c5-92c2-44e6-835b-19479a4ac5dc",
   "metadata": {},
   "outputs": [
    {
     "name": "stderr",
     "output_type": "stream",
     "text": [
      "C:\\Users\\Gustavo\\anaconda3\\Lib\\site-packages\\torch\\optim\\lr_scheduler.py:60: UserWarning: The verbose parameter is deprecated. Please use get_last_lr() to access the learning rate.\n",
      "  warnings.warn(\n"
     ]
    }
   ],
   "source": [
    "# Adicionando scheduler para reduzir a taxa de aprendizado\n",
    "scheduler = optim.lr_scheduler.ReduceLROnPlateau(optimizer, mode='min', factor=0.1, patience=5, verbose=True)  # Scheduler para reduzir a taxa de aprendizado com base na perda.\n"
   ]
  },
  {
   "cell_type": "code",
   "execution_count": 151,
   "id": "732e97fa-6569-4ac8-8946-30d6f27a1a33",
   "metadata": {},
   "outputs": [],
   "source": [
    "# Função de treinamento com early stopping e timers\n",
    "def train_model(model, criterion, optimizer, scheduler, num_epochs=100):  # Função para treinar o modelo.\n",
    "    total_start_time = time.time()  # Inicia o timer para calcular o tempo total de treinamento.\n",
    "    early_stopping_patience = 5  # Define a paciência para o early stopping.\n",
    "    best_loss = float('inf')  # Inicializa a melhor perda como infinita.\n",
    "    patience_counter = 0  # Contador para o early stopping.\n",
    "\n",
    "    for epoch in range(num_epochs):  # Loop de treinamento para cada época.\n",
    "        epoch_start_time = time.time()  # Inicia o timer para calcular o tempo de cada época.\n",
    "\n",
    "        model.train()  # Coloca o modelo em modo de treinamento.\n",
    "        running_loss = 0.0  # Inicializa a variável de perda acumulada.\n",
    "        correct = 0  # Inicializa o contador de acertos.\n",
    "        total = 0  # Inicializa o contador total de amostras.\n",
    "\n",
    "        for inputs, labels in train_loader:  # Loop pelos lotes de dados.\n",
    "            inputs, labels = inputs.to(device), labels.to(device)  # Move os dados para o dispositivo.\n",
    "            optimizer.zero_grad()  # Zera os gradientes do otimizador.\n",
    "            outputs = model(inputs)  # Passa os dados pelo modelo.\n",
    "            loss = criterion(outputs, labels)  # Calcula a perda.\n",
    "            loss.backward()  # Calcula os gradientes.\n",
    "            optimizer.step()  # Atualiza os parâmetros do modelo.\n",
    "\n",
    "            running_loss += loss.item() * inputs.size(0)  # Acumula a perda total.\n",
    "            _, predicted = torch.max(outputs, 1)  # Obtém as predições do modelo.\n",
    "            total += labels.size(0)  # Conta o total de amostras.\n",
    "            correct += (predicted == labels).sum().item()  # Conta o número de acertos.\n",
    "\n",
    "        epoch_loss = running_loss / len(train_loader.dataset)  # Calcula a perda média por época.\n",
    "        epoch_accuracy = 100 * correct / total  # Calcula a acurácia por época.\n",
    "\n",
    "        # Calculando o tempo da época\n",
    "        epoch_time = time.time() - epoch_start_time  # Calcula o tempo da época.\n",
    "        print(f'Epoch {epoch+1}/{num_epochs}, Loss: {epoch_loss:.4f}, Accuracy: {epoch_accuracy:.2f}%, Time: {epoch_time:.2f} segundos')  # Imprime o resumo da época.\n",
    "\n",
    "        scheduler.step(epoch_loss)  # Ajusta a taxa de aprendizado com base na perda da época.\n",
    "\n",
    "        # Early Stopping\n",
    "        if epoch_loss < best_loss:  # Verifica se a perda atual é melhor que a melhor perda anterior.\n",
    "            best_loss = epoch_loss  # Atualiza a melhor perda.\n",
    "            patience_counter = 0  # Reseta o contador de paciência.\n",
    "        else:\n",
    "            patience_counter += 1  # Incrementa o contador de paciência.\n",
    "            if patience_counter >= early_stopping_patience:  # Se a paciência for excedida, ativa o early stopping.\n",
    "                print(\"Early stopping triggered\")  # Informa o early stopping.\n",
    "                break\n",
    "\n",
    "    # Calculando o tempo total\n",
    "    total_time = time.time() - total_start_time  # Calcula o tempo total de treinamento.\n",
    "    print(f\"Tempo total de treinamento: {total_time:.2f} segundos\")  # Imprime o tempo total de treinamento.\n"
   ]
  },
  {
   "cell_type": "code",
   "execution_count": 152,
   "id": "c6edc32b-047a-4a7e-82d9-7db9ec9c79f5",
   "metadata": {},
   "outputs": [],
   "source": [
    "# Função de avaliação com métricas adicionais (precision, recall, f1-score)\n",
    "def evaluate_model(model):  # Função para avaliar o modelo.\n",
    "    model.eval()  # Coloca o modelo em modo de avaliação.\n",
    "    correct = 0  # Inicializa o contador de acertos.\n",
    "    total = 0  # Inicializa o contador total de amostras.\n",
    "    all_labels = []  # Lista para armazenar os rótulos verdadeiros.\n",
    "    all_preds = []  # Lista para armazenar as predições do modelo.\n",
    "\n",
    "    with torch.no_grad():  # Desativa a computação de gradientes para a avaliação.\n",
    "        for inputs, labels in test_loader:  # Loop pelos dados de teste.\n",
    "            inputs, labels = inputs.to(device), labels.to(device)  # Move os dados para o dispositivo.\n",
    "            outputs = model(inputs)  # Passa os dados pelo modelo.\n",
    "            _, predicted = torch.max(outputs, 1)  # Obtém as predições.\n",
    "            total += labels.size(0)  # Conta o total de amostras.\n",
    "            correct += (predicted == labels).sum().item()  # Conta o número de acertos.\n",
    "            all_labels.extend(labels.cpu().numpy())  # Armazena os rótulos verdadeiros.\n",
    "            all_preds.extend(predicted.cpu().numpy())  # Armazena as predições.\n",
    "\n",
    "    accuracy = 100 * correct / total  # Calcula a acurácia do modelo.\n",
    "    print(f'Accuracy: {accuracy:.2f}%')  # Imprime a acurácia.\n",
    "\n",
    "    # Matriz de confusão e relatório de métricas\n",
    "    cm = confusion_matrix(all_labels, all_preds)  # Calcula a matriz de confusão.\n",
    "    disp = ConfusionMatrixDisplay(confusion_matrix=cm, display_labels=['Não é Fogo', 'Fogo'])  # Exibe a matriz de confusão.\n",
    "    disp.plot(cmap=plt.cm.Blues)  # Plota a matriz de confusão com o cmap em tons de azul.\n",
    "    plt.show()  # Mostra o gráfico.\n",
    "\n",
    "    # Relatório de classificação\n",
    "    print(classification_report(all_labels, all_preds, target_names=['Não é Fogo', 'Fogo']))  # Exibe o relatório de classificação com precisão, recall e f1-score.\n",
    "\n",
    "    return accuracy  # Retorna a acurácia.\n"
   ]
  },
  {
   "cell_type": "code",
   "execution_count": 153,
   "id": "95ea2654-374f-4225-8de5-2410bbced17b",
   "metadata": {},
   "outputs": [
    {
     "name": "stdout",
     "output_type": "stream",
     "text": [
      "Epoch 1/100, Loss: 0.5418, Accuracy: 64.11%, Time: 497.22 segundos\n",
      "Epoch 2/100, Loss: 0.3440, Accuracy: 79.93%, Time: 492.45 segundos\n",
      "Epoch 3/100, Loss: 0.2712, Accuracy: 85.41%, Time: 497.17 segundos\n",
      "Epoch 4/100, Loss: 0.1979, Accuracy: 90.00%, Time: 496.01 segundos\n",
      "Epoch 5/100, Loss: 0.1892, Accuracy: 89.73%, Time: 492.32 segundos\n",
      "Epoch 6/100, Loss: 0.1529, Accuracy: 93.22%, Time: 493.54 segundos\n",
      "Epoch 7/100, Loss: 0.1309, Accuracy: 94.25%, Time: 488.25 segundos\n",
      "Epoch 8/100, Loss: 0.1072, Accuracy: 94.66%, Time: 493.59 segundos\n",
      "Epoch 9/100, Loss: 0.1030, Accuracy: 95.21%, Time: 492.99 segundos\n",
      "Epoch 10/100, Loss: 0.0762, Accuracy: 96.51%, Time: 491.14 segundos\n",
      "Epoch 11/100, Loss: 0.0690, Accuracy: 97.05%, Time: 490.69 segundos\n",
      "Epoch 12/100, Loss: 0.0710, Accuracy: 97.40%, Time: 494.12 segundos\n",
      "Epoch 13/100, Loss: 0.0653, Accuracy: 96.64%, Time: 493.11 segundos\n",
      "Epoch 14/100, Loss: 0.0647, Accuracy: 97.19%, Time: 491.81 segundos\n",
      "Epoch 15/100, Loss: 0.0528, Accuracy: 98.15%, Time: 501.70 segundos\n",
      "Epoch 16/100, Loss: 0.0482, Accuracy: 97.74%, Time: 499.95 segundos\n",
      "Epoch 17/100, Loss: 0.0471, Accuracy: 98.36%, Time: 501.94 segundos\n",
      "Epoch 18/100, Loss: 0.0347, Accuracy: 98.84%, Time: 496.57 segundos\n",
      "Epoch 19/100, Loss: 0.0374, Accuracy: 98.15%, Time: 493.70 segundos\n",
      "Epoch 20/100, Loss: 0.0345, Accuracy: 98.22%, Time: 495.16 segundos\n",
      "Epoch 21/100, Loss: 0.0286, Accuracy: 99.04%, Time: 491.57 segundos\n",
      "Epoch 22/100, Loss: 0.0201, Accuracy: 99.52%, Time: 493.44 segundos\n",
      "Epoch 23/100, Loss: 0.0285, Accuracy: 98.90%, Time: 495.56 segundos\n",
      "Epoch 24/100, Loss: 0.0232, Accuracy: 98.63%, Time: 493.13 segundos\n",
      "Epoch 25/100, Loss: 0.0221, Accuracy: 99.18%, Time: 495.57 segundos\n",
      "Epoch 26/100, Loss: 0.0227, Accuracy: 99.45%, Time: 495.55 segundos\n",
      "Epoch 27/100, Loss: 0.0195, Accuracy: 99.11%, Time: 501.72 segundos\n",
      "Epoch 28/100, Loss: 0.0199, Accuracy: 99.38%, Time: 495.13 segundos\n",
      "Epoch 29/100, Loss: 0.0192, Accuracy: 99.04%, Time: 493.63 segundos\n",
      "Epoch 30/100, Loss: 0.0156, Accuracy: 99.45%, Time: 494.78 segundos\n",
      "Epoch 31/100, Loss: 0.0177, Accuracy: 99.25%, Time: 493.02 segundos\n",
      "Epoch 32/100, Loss: 0.0091, Accuracy: 99.86%, Time: 492.48 segundos\n",
      "Epoch 33/100, Loss: 0.0106, Accuracy: 99.73%, Time: 493.72 segundos\n",
      "Epoch 34/100, Loss: 0.0109, Accuracy: 99.73%, Time: 494.85 segundos\n",
      "Epoch 35/100, Loss: 0.0108, Accuracy: 99.66%, Time: 493.68 segundos\n",
      "Epoch 36/100, Loss: 0.0138, Accuracy: 99.32%, Time: 493.71 segundos\n",
      "Epoch 37/100, Loss: 0.0123, Accuracy: 99.66%, Time: 495.49 segundos\n",
      "Early stopping triggered\n",
      "Tempo total de treinamento: 18300.46 segundos\n"
     ]
    }
   ],
   "source": [
    "# Treinando o modelo\n",
    "train_model(model, criterion, optimizer, scheduler, num_epochs=100)  # Chama a função para treinar o modelo com 100 épocas.\n"
   ]
  },
  {
   "cell_type": "code",
   "execution_count": 154,
   "id": "e5cc61cf-0989-42a1-aff4-60cdf7c31498",
   "metadata": {},
   "outputs": [
    {
     "name": "stderr",
     "output_type": "stream",
     "text": [
      "C:\\Users\\Gustavo\\anaconda3\\Lib\\site-packages\\PIL\\Image.py:3218: DecompressionBombWarning: Image size (96631920 pixels) exceeds limit of 89478485 pixels, could be decompression bomb DOS attack.\n",
      "  warnings.warn(\n",
      "C:\\Users\\Gustavo\\anaconda3\\Lib\\site-packages\\PIL\\Image.py:3218: DecompressionBombWarning: Image size (94487082 pixels) exceeds limit of 89478485 pixels, could be decompression bomb DOS attack.\n",
      "  warnings.warn(\n",
      "C:\\Users\\Gustavo\\anaconda3\\Lib\\site-packages\\PIL\\Image.py:3218: DecompressionBombWarning: Image size (101859328 pixels) exceeds limit of 89478485 pixels, could be decompression bomb DOS attack.\n",
      "  warnings.warn(\n"
     ]
    },
    {
     "name": "stdout",
     "output_type": "stream",
     "text": [
      "Accuracy: 92.86%\n"
     ]
    },
    {
     "data": {
      "image/png": "[encoded data removed]",
      "text/plain": [
       "<Figure size 640x480 with 2 Axes>"
      ]
     },
     "metadata": {},
     "output_type": "display_data"
    },
    {
     "name": "stdout",
     "output_type": "stream",
     "text": [
      "              precision    recall  f1-score   support\n",
      "\n",
      "  Não é Fogo       0.91      0.95      0.93       315\n",
      "        Fogo       0.94      0.91      0.93       315\n",
      "\n",
      "    accuracy                           0.93       630\n",
      "   macro avg       0.93      0.93      0.93       630\n",
      "weighted avg       0.93      0.93      0.93       630\n",
      "\n"
     ]
    }
   ],
   "source": [
    "# Avaliando o modelo\n",
    "accuracy = evaluate_model(model)  # Chama a função para avaliar o modelo e armazena a acurácia.\n"
   ]
  },
  {
   "cell_type": "code",
   "execution_count": 155,
   "id": "3a0e90e0-0df7-45b4-8c9b-7c6de78b3eb8",
   "metadata": {},
   "outputs": [],
   "source": [
    "# Função para predição de uma imagem\n",
    "def predict_image(img):  # Função para realizar predição em uma única imagem.\n",
    "    img = predict_transform(img).unsqueeze(0).to(device)  # Aplica as transformações e adiciona uma dimensão extra ao tensor.\n",
    "    model.eval()  # Coloca o modelo em modo de avaliação.\n",
    "    with torch.no_grad():  # Desativa os gradientes.\n",
    "        outputs = model(img)  # Passa a imagem pelo modelo.\n",
    "        _, preds = torch.max(outputs, 1)  # Obtém a predição da classe.\n",
    "    class_names = ['Fogo', 'Não é Fogo']  # Nomes das classes para a saída.\n",
    "    return class_names[preds[0]]  # Retorna a classe predita.\n"
   ]
  },
  {
   "cell_type": "code",
   "execution_count": 156,
   "id": "c999fbab-e758-4504-8072-8648e000cb2d",
   "metadata": {},
   "outputs": [],
   "source": [
    "# Interface Gradio\n",
    "interface = gr.Interface(fn=predict_image, inputs=gr.Image(type=\"pil\"), outputs=\"text\", title=\"Classificação de Incêndios Florestais\", description=\"Faça upload de uma imagem para verificar se há fogo ou não.\")  # Cria uma interface Gradio para predição de imagem.\n"
   ]
  },
  {
   "cell_type": "code",
   "execution_count": 157,
   "id": "2a752c2a-d4aa-4dc3-90df-2807de4d1edb",
   "metadata": {},
   "outputs": [
    {
     "name": "stdout",
     "output_type": "stream",
     "text": [
      "Running on local URL:  http://127.0.0.1:7863\n",
      "Running on public URL: https://c9c0394ea32e9ee153.gradio.live\n",
      "\n",
      "This share link expires in 72 hours. For free permanent hosting and GPU upgrades, run `gradio deploy` from Terminal to deploy to Spaces (https://huggingface.co/spaces)\n"
     ]
    },
    {
     "data": {
      "text/html": [
       "<div><iframe src=\"https://c9c0394ea32e9ee153.gradio.live\" width=\"100%\" height=\"500\" allow=\"autoplay; camera; microphone; clipboard-read; clipboard-write;\" frameborder=\"0\" allowfullscreen></iframe></div>"
      ],
      "text/plain": [
       "<IPython.core.display.HTML object>"
      ]
     },
     "metadata": {},
     "output_type": "display_data"
    },
    {
     "data": {
      "text/plain": []
     },
     "execution_count": 157,
     "metadata": {},
     "output_type": "execute_result"
    }
   ],
   "source": [
    "# Executando a interface com link público\n",
    "interface.launch(share=True)  # Lança a interface Gradio com um link público.\n"
   ]
  }
 ],
 "metadata": {
  "kernelspec": {
   "display_name": "Python 3 (ipykernel)",
   "language": "python",
   "name": "python3"
  },
  "language_info": {
   "codemirror_mode": {
    "name": "ipython",
    "version": 3
   },
   "file_extension": ".py",
   "mimetype": "text/x-python",
   "name": "python",
   "nbconvert_exporter": "python",
   "pygments_lexer": "ipython3",
   "version": "3.12.4"
  }
 },
 "nbformat": 4,
 "nbformat_minor": 5
}
